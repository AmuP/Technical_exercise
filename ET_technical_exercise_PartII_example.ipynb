{
 "cells": [
  {
   "cell_type": "markdown",
   "id": "f38535c2",
   "metadata": {},
   "source": [
    "# PART II (Example to calculate and remove outliers from the dataset)\n"
   ]
  },
  {
   "cell_type": "code",
   "execution_count": null,
   "id": "9a394327",
   "metadata": {},
   "outputs": [],
   "source": [
    "# Here's an example of calculating Zscore in python"
   ]
  },
  {
   "cell_type": "code",
   "execution_count": 28,
   "id": "6252308c",
   "metadata": {},
   "outputs": [
    {
     "name": "stdout",
     "output_type": "stream",
     "text": [
      "30\n",
      "Z-scores:  [-0.64732253 -0.80870488 -0.64732253 -0.48594018 -0.37835195 -0.27076372\n",
      " -0.10938137  0.15958921  0.26717744 -0.97008723  0.69753037 -0.80870488\n",
      " -0.64732253 -0.48594018 -0.37835195 -0.2169696  -0.27076372 -0.10938137\n",
      " -0.862499   -0.64732253 -0.48594018 -0.37835195 -0.27076372 -0.10938137\n",
      "  0.15958921  0.26717744  0.69753037  1.23547153  3.1182656   3.38723618]\n"
     ]
    }
   ],
   "source": [
    "# importing zscore function from scipy.stats module\n",
    "from scipy.stats import zscore\n",
    "import numpy as np\n",
    "\n",
    "# Create a sample dataset with some outliers\n",
    "data =np.array([25, 22, 25, 28, 30, 32, 35, 40, 42, 19, 50, 22, 25, 28, 30, 33, 32, 35, 21, 25, 28, \n",
    "                30, 32, 35, 40, 42, 50, 60, 95, 100])\n",
    "\n",
    "print(len(data))\n",
    "\n",
    "z_scores=zscore(data)\n",
    "\n",
    "# Print the Z-scores\n",
    "print(\"Z-scores: \", z_scores)\n"
   ]
  },
  {
   "cell_type": "markdown",
   "id": "17e04a50",
   "metadata": {},
   "source": [
    "In this example, I created a sample dataset containing 30 data points (ideally the data point should be large enough to assume it to be normally distributed)\n",
    "\n",
    "Here in this example I have also included two outliers (95 and 100). \n",
    "And then calculated the mean and standard deviation of the dataset.\n",
    "\n",
    "Finally, calcualted the Z-score for each data point by subtracting the \n",
    "mean from the data point and dividing by the standard deviation.\n",
    "\n",
    "You can see that the two outliers (95 and 100) have much higher Z-scores (greater than 3) than the rest of the data, \n",
    "indicating that they are significantly different from the majority of the data. And therefore these points could be considered as an outlier and we can exclude these data points before our analysis. \n",
    "\n",
    "Below is an example to remove the outlier points"
   ]
  },
  {
   "cell_type": "code",
   "execution_count": null,
   "id": "cb3ecc47",
   "metadata": {},
   "outputs": [],
   "source": [
    "# Removing outlier data points "
   ]
  },
  {
   "cell_type": "code",
   "execution_count": 26,
   "id": "e9fb3b46",
   "metadata": {},
   "outputs": [
    {
     "name": "stdout",
     "output_type": "stream",
     "text": [
      "[25 22 25 28 30 32 35 40 42 19 50 22 25 28 30 33 32 35 21 25 28 30 32 35\n",
      " 40 42 50 60]\n"
     ]
    }
   ],
   "source": [
    "# Identify outliers\n",
    "outliers = np.where((z_scores > 3) | (z_scores < -3))\n",
    "\n",
    "# Remove outliers\n",
    "clean_data = np.delete(data, outliers)\n",
    "\n",
    "print(clean_data)"
   ]
  }
 ],
 "metadata": {
  "kernelspec": {
   "display_name": "Python 3",
   "language": "python",
   "name": "python3"
  },
  "language_info": {
   "codemirror_mode": {
    "name": "ipython",
    "version": 3
   },
   "file_extension": ".py",
   "mimetype": "text/x-python",
   "name": "python",
   "nbconvert_exporter": "python",
   "pygments_lexer": "ipython3",
   "version": "3.8.8"
  }
 },
 "nbformat": 4,
 "nbformat_minor": 5
}
